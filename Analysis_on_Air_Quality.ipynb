{
 "cells": [
  {
   "cell_type": "markdown",
   "id": "sweet-telephone",
   "metadata": {},
   "source": [
    "## Starting a jupyter notebook file to read in csv"
   ]
  },
  {
   "cell_type": "code",
   "execution_count": null,
   "id": "necessary-dairy",
   "metadata": {},
   "outputs": [],
   "source": [
    "# Dependencies and Setup\n",
    "import matplotlib.pyplot as plt\n",
    "import pandas as pd\n",
    "import numpy as np\n",
    "import requests\n",
    "import gmaps\n",
    "import os\n",
    "\n",
    "# Import API key\n",
    "from config import g_key"
   ]
  },
  {
   "cell_type": "code",
   "execution_count": null,
   "id": "negative-arlington",
   "metadata": {},
   "outputs": [],
   "source": [
    "air_quality_df = pd.read_csv()"
   ]
  }
 ],
 "metadata": {
  "kernelspec": {
   "display_name": "Python 3",
   "language": "python",
   "name": "python3"
  },
  "language_info": {
   "codemirror_mode": {
    "name": "ipython",
    "version": 3
   },
   "file_extension": ".py",
   "mimetype": "text/x-python",
   "name": "python",
   "nbconvert_exporter": "python",
   "pygments_lexer": "ipython3",
   "version": "3.6.10"
  }
 },
 "nbformat": 4,
 "nbformat_minor": 5
}
