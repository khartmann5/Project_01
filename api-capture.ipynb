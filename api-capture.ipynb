{
 "cells": [
  {
   "cell_type": "code",
   "execution_count": 1,
   "id": "funky-hobby",
   "metadata": {},
   "outputs": [],
   "source": [
    "# Dependencies\n",
    "import requests\n",
    "import os\n",
    "import gmaps\n",
    "import datetime \n",
    "import pandas as pd\n",
    "import numpy as np\n",
    "from scipy.stats import linregress\n",
    "from matplotlib import pyplot as plt\n",
    "\n",
    "from config import weather_key"
   ]
  },
  {
   "cell_type": "code",
   "execution_count": 17,
   "id": "natural-delaware",
   "metadata": {},
   "outputs": [
    {
     "data": {
      "text/html": [
       "<div>\n",
       "<style scoped>\n",
       "    .dataframe tbody tr th:only-of-type {\n",
       "        vertical-align: middle;\n",
       "    }\n",
       "\n",
       "    .dataframe tbody tr th {\n",
       "        vertical-align: top;\n",
       "    }\n",
       "\n",
       "    .dataframe thead th {\n",
       "        text-align: right;\n",
       "    }\n",
       "</style>\n",
       "<table border=\"1\" class=\"dataframe\">\n",
       "  <thead>\n",
       "    <tr style=\"text-align: right;\">\n",
       "      <th></th>\n",
       "      <th>main</th>\n",
       "      <th>components</th>\n",
       "      <th>dt</th>\n",
       "    </tr>\n",
       "  </thead>\n",
       "  <tbody>\n",
       "    <tr>\n",
       "      <th>0</th>\n",
       "      <td>{'aqi': 1}</td>\n",
       "      <td>{'co': 185.25, 'no': 0.17, 'no2': 3.86, 'o3': ...</td>\n",
       "      <td>1612180800</td>\n",
       "    </tr>\n",
       "    <tr>\n",
       "      <th>1</th>\n",
       "      <td>{'aqi': 1}</td>\n",
       "      <td>{'co': 186.92, 'no': 0.51, 'no2': 4.24, 'o3': ...</td>\n",
       "      <td>1612177200</td>\n",
       "    </tr>\n",
       "    <tr>\n",
       "      <th>2</th>\n",
       "      <td>{'aqi': 2}</td>\n",
       "      <td>{'co': 185.25, 'no': 0.59, 'no2': 3.86, 'o3': ...</td>\n",
       "      <td>1612173600</td>\n",
       "    </tr>\n",
       "    <tr>\n",
       "      <th>3</th>\n",
       "      <td>{'aqi': 2}</td>\n",
       "      <td>{'co': 185.25, 'no': 0.72, 'no2': 3.3, 'o3': 8...</td>\n",
       "      <td>1612170000</td>\n",
       "    </tr>\n",
       "    <tr>\n",
       "      <th>4</th>\n",
       "      <td>{'aqi': 2}</td>\n",
       "      <td>{'co': 185.25, 'no': 0.84, 'no2': 2.96, 'o3': ...</td>\n",
       "      <td>1612166400</td>\n",
       "    </tr>\n",
       "    <tr>\n",
       "      <th>...</th>\n",
       "      <td>...</td>\n",
       "      <td>...</td>\n",
       "      <td>...</td>\n",
       "    </tr>\n",
       "    <tr>\n",
       "      <th>1460</th>\n",
       "      <td>{'aqi': 1}</td>\n",
       "      <td>{'co': 166.89, 'no': 0, 'no2': 1.8, 'o3': 72.9...</td>\n",
       "      <td>1606838400</td>\n",
       "    </tr>\n",
       "    <tr>\n",
       "      <th>1461</th>\n",
       "      <td>{'aqi': 1}</td>\n",
       "      <td>{'co': 166.89, 'no': 0, 'no2': 2.4, 'o3': 74.3...</td>\n",
       "      <td>1606834800</td>\n",
       "    </tr>\n",
       "    <tr>\n",
       "      <th>1462</th>\n",
       "      <td>{'aqi': 1}</td>\n",
       "      <td>{'co': 166.89, 'no': 0, 'no2': 2.91, 'o3': 76....</td>\n",
       "      <td>1606831200</td>\n",
       "    </tr>\n",
       "    <tr>\n",
       "      <th>1463</th>\n",
       "      <td>{'aqi': 1}</td>\n",
       "      <td>{'co': 166.89, 'no': 0, 'no2': 3.26, 'o3': 77....</td>\n",
       "      <td>1606827600</td>\n",
       "    </tr>\n",
       "    <tr>\n",
       "      <th>1464</th>\n",
       "      <td>{'aqi': 1}</td>\n",
       "      <td>{'co': 165.22, 'no': 0, 'no2': 3.43, 'o3': 76....</td>\n",
       "      <td>1606824000</td>\n",
       "    </tr>\n",
       "  </tbody>\n",
       "</table>\n",
       "<p>1465 rows × 3 columns</p>\n",
       "</div>"
      ],
      "text/plain": [
       "            main                                         components  \\\n",
       "0     {'aqi': 1}  {'co': 185.25, 'no': 0.17, 'no2': 3.86, 'o3': ...   \n",
       "1     {'aqi': 1}  {'co': 186.92, 'no': 0.51, 'no2': 4.24, 'o3': ...   \n",
       "2     {'aqi': 2}  {'co': 185.25, 'no': 0.59, 'no2': 3.86, 'o3': ...   \n",
       "3     {'aqi': 2}  {'co': 185.25, 'no': 0.72, 'no2': 3.3, 'o3': 8...   \n",
       "4     {'aqi': 2}  {'co': 185.25, 'no': 0.84, 'no2': 2.96, 'o3': ...   \n",
       "...          ...                                                ...   \n",
       "1460  {'aqi': 1}  {'co': 166.89, 'no': 0, 'no2': 1.8, 'o3': 72.9...   \n",
       "1461  {'aqi': 1}  {'co': 166.89, 'no': 0, 'no2': 2.4, 'o3': 74.3...   \n",
       "1462  {'aqi': 1}  {'co': 166.89, 'no': 0, 'no2': 2.91, 'o3': 76....   \n",
       "1463  {'aqi': 1}  {'co': 166.89, 'no': 0, 'no2': 3.26, 'o3': 77....   \n",
       "1464  {'aqi': 1}  {'co': 165.22, 'no': 0, 'no2': 3.43, 'o3': 76....   \n",
       "\n",
       "              dt  \n",
       "0     1612180800  \n",
       "1     1612177200  \n",
       "2     1612173600  \n",
       "3     1612170000  \n",
       "4     1612166400  \n",
       "...          ...  \n",
       "1460  1606838400  \n",
       "1461  1606834800  \n",
       "1462  1606831200  \n",
       "1463  1606827600  \n",
       "1464  1606824000  \n",
       "\n",
       "[1465 rows x 3 columns]"
      ]
     },
     "execution_count": 17,
     "metadata": {},
     "output_type": "execute_result"
    }
   ],
   "source": [
    "# Open Weather pollution attempt\n",
    "\n",
    "base_url = \"http://api.openweathermap.org/data/2.5/air_pollution/history?\"\n",
    "\n",
    "# Params\n",
    "#lat={lat}&lon={lon}&start={start}&end={end}&appid={API key}\n",
    "\n",
    "# Portland lat lng\n",
    "#lat = 45.5051\n",
    "#lng = 122.6750\n",
    "\n",
    "# Rerunning with Bakersfield lat lng\n",
    "# 35.3733° N, 119.0187° W\n",
    "#lat = 35.3733\n",
    "#lng = 119.0187\n",
    "\n",
    "# Rerunning with New York lat lng\n",
    "#40.7128° N, 74.0060° W\n",
    "lat = 40.7128\n",
    "lng = 74.0060\n",
    "\n",
    "startDate = pd.Timestamp('2020-12-01T12').timestamp()\n",
    "#startDate = \"1577836861\"\n",
    "\n",
    "endDate = pd.Timestamp('2021-02-01T12').timestamp()\n",
    "#endDate = \"1580428861\"\n",
    "\n",
    "ser = pd.Series([startDate, endDate], dtype='int32')\n",
    "\n",
    "startDate = ser[0]\n",
    "\n",
    "endDate = ser[1]\n",
    "\n",
    "param_url = f'lat={lat}&lon={lng}&start={startDate}&end={endDate}&appid={weather_key}'\n",
    "\n",
    "response = requests.get(base_url + param_url)\n",
    "measurement_data = response.json()\n",
    "#measurement_data\n",
    "\n",
    "measurements_df = pd.DataFrame(measurement_data[\"list\"])\n",
    "#for loop?\n",
    "#measurements_df[\"datetime\"] = pd.Timestamp(measurements_df[\"dt\"], unit='s', tz='US/Pacific')\n",
    "#print(places_data[\"results\"][0][\"name\"])\n",
    "#print(places_data[\"results\"][0][\"vicinity\"])\n",
    "#measurements_df = measurements_df[:,\"datetime\"]\n",
    "measurements_df\n",
    "                                                           \n",
    "#test_url = base_url + param_url\n",
    "#test_url\n",
    "#startDate\n",
    "#endDate"
   ]
  },
  {
   "cell_type": "code",
   "execution_count": null,
   "id": "confirmed-sugar",
   "metadata": {},
   "outputs": [],
   "source": []
  },
  {
   "cell_type": "code",
   "execution_count": 22,
   "id": "julian-triple",
   "metadata": {},
   "outputs": [
    {
     "data": {
      "text/html": [
       "<div>\n",
       "<style scoped>\n",
       "    .dataframe tbody tr th:only-of-type {\n",
       "        vertical-align: middle;\n",
       "    }\n",
       "\n",
       "    .dataframe tbody tr th {\n",
       "        vertical-align: top;\n",
       "    }\n",
       "\n",
       "    .dataframe thead th {\n",
       "        text-align: right;\n",
       "    }\n",
       "</style>\n",
       "<table border=\"1\" class=\"dataframe\">\n",
       "  <thead>\n",
       "    <tr style=\"text-align: right;\">\n",
       "      <th></th>\n",
       "      <th>main</th>\n",
       "      <th>components</th>\n",
       "      <th>dt</th>\n",
       "      <th>datetime</th>\n",
       "      <th>co</th>\n",
       "      <th>no</th>\n",
       "      <th>no2</th>\n",
       "      <th>o3</th>\n",
       "      <th>so2</th>\n",
       "      <th>pm2_5</th>\n",
       "      <th>pm10</th>\n",
       "      <th>nh3</th>\n",
       "      <th>aqi</th>\n",
       "    </tr>\n",
       "  </thead>\n",
       "  <tbody>\n",
       "    <tr>\n",
       "      <th>0</th>\n",
       "      <td>{'aqi': 1}</td>\n",
       "      <td>{'co': 185.25, 'no': 0.17, 'no2': 3.86, 'o3': ...</td>\n",
       "      <td>1612180800</td>\n",
       "      <td>2021-02-01 12:00:00</td>\n",
       "      <td>185.25</td>\n",
       "      <td>0.17</td>\n",
       "      <td>3.86</td>\n",
       "      <td>78.68</td>\n",
       "      <td>2.56</td>\n",
       "      <td>8.06</td>\n",
       "      <td>9.41</td>\n",
       "      <td>1.19</td>\n",
       "      <td>1.0</td>\n",
       "    </tr>\n",
       "    <tr>\n",
       "      <th>1</th>\n",
       "      <td>{'aqi': 1}</td>\n",
       "      <td>{'co': 186.92, 'no': 0.51, 'no2': 4.24, 'o3': ...</td>\n",
       "      <td>1612177200</td>\n",
       "      <td>2021-02-01 11:00:00</td>\n",
       "      <td>186.92</td>\n",
       "      <td>0.51</td>\n",
       "      <td>4.24</td>\n",
       "      <td>77.25</td>\n",
       "      <td>2.62</td>\n",
       "      <td>8.16</td>\n",
       "      <td>9.45</td>\n",
       "      <td>2.06</td>\n",
       "      <td>1.0</td>\n",
       "    </tr>\n",
       "    <tr>\n",
       "      <th>2</th>\n",
       "      <td>{'aqi': 2}</td>\n",
       "      <td>{'co': 185.25, 'no': 0.59, 'no2': 3.86, 'o3': ...</td>\n",
       "      <td>1612173600</td>\n",
       "      <td>2021-02-01 10:00:00</td>\n",
       "      <td>185.25</td>\n",
       "      <td>0.59</td>\n",
       "      <td>3.86</td>\n",
       "      <td>80.82</td>\n",
       "      <td>2.56</td>\n",
       "      <td>8.23</td>\n",
       "      <td>9.66</td>\n",
       "      <td>2.69</td>\n",
       "      <td>2.0</td>\n",
       "    </tr>\n",
       "    <tr>\n",
       "      <th>3</th>\n",
       "      <td>{'aqi': 2}</td>\n",
       "      <td>{'co': 185.25, 'no': 0.72, 'no2': 3.3, 'o3': 8...</td>\n",
       "      <td>1612170000</td>\n",
       "      <td>2021-02-01 09:00:00</td>\n",
       "      <td>185.25</td>\n",
       "      <td>0.72</td>\n",
       "      <td>3.30</td>\n",
       "      <td>85.12</td>\n",
       "      <td>2.38</td>\n",
       "      <td>8.00</td>\n",
       "      <td>9.53</td>\n",
       "      <td>3.10</td>\n",
       "      <td>2.0</td>\n",
       "    </tr>\n",
       "    <tr>\n",
       "      <th>4</th>\n",
       "      <td>{'aqi': 2}</td>\n",
       "      <td>{'co': 185.25, 'no': 0.84, 'no2': 2.96, 'o3': ...</td>\n",
       "      <td>1612166400</td>\n",
       "      <td>2021-02-01 08:00:00</td>\n",
       "      <td>185.25</td>\n",
       "      <td>0.84</td>\n",
       "      <td>2.96</td>\n",
       "      <td>85.83</td>\n",
       "      <td>1.91</td>\n",
       "      <td>6.86</td>\n",
       "      <td>8.30</td>\n",
       "      <td>3.23</td>\n",
       "      <td>2.0</td>\n",
       "    </tr>\n",
       "    <tr>\n",
       "      <th>...</th>\n",
       "      <td>...</td>\n",
       "      <td>...</td>\n",
       "      <td>...</td>\n",
       "      <td>...</td>\n",
       "      <td>...</td>\n",
       "      <td>...</td>\n",
       "      <td>...</td>\n",
       "      <td>...</td>\n",
       "      <td>...</td>\n",
       "      <td>...</td>\n",
       "      <td>...</td>\n",
       "      <td>...</td>\n",
       "      <td>...</td>\n",
       "    </tr>\n",
       "    <tr>\n",
       "      <th>1460</th>\n",
       "      <td>{'aqi': 1}</td>\n",
       "      <td>{'co': 166.89, 'no': 0, 'no2': 1.8, 'o3': 72.9...</td>\n",
       "      <td>1606838400</td>\n",
       "      <td>2020-12-01 16:00:00</td>\n",
       "      <td>166.89</td>\n",
       "      <td>0.00</td>\n",
       "      <td>1.80</td>\n",
       "      <td>72.96</td>\n",
       "      <td>0.68</td>\n",
       "      <td>0.56</td>\n",
       "      <td>0.59</td>\n",
       "      <td>0.70</td>\n",
       "      <td>1.0</td>\n",
       "    </tr>\n",
       "    <tr>\n",
       "      <th>1461</th>\n",
       "      <td>{'aqi': 1}</td>\n",
       "      <td>{'co': 166.89, 'no': 0, 'no2': 2.4, 'o3': 74.3...</td>\n",
       "      <td>1606834800</td>\n",
       "      <td>2020-12-01 15:00:00</td>\n",
       "      <td>166.89</td>\n",
       "      <td>0.00</td>\n",
       "      <td>2.40</td>\n",
       "      <td>74.39</td>\n",
       "      <td>0.83</td>\n",
       "      <td>0.62</td>\n",
       "      <td>0.64</td>\n",
       "      <td>0.75</td>\n",
       "      <td>1.0</td>\n",
       "    </tr>\n",
       "    <tr>\n",
       "      <th>1462</th>\n",
       "      <td>{'aqi': 1}</td>\n",
       "      <td>{'co': 166.89, 'no': 0, 'no2': 2.91, 'o3': 76....</td>\n",
       "      <td>1606831200</td>\n",
       "      <td>2020-12-01 14:00:00</td>\n",
       "      <td>166.89</td>\n",
       "      <td>0.00</td>\n",
       "      <td>2.91</td>\n",
       "      <td>76.53</td>\n",
       "      <td>0.93</td>\n",
       "      <td>0.65</td>\n",
       "      <td>0.67</td>\n",
       "      <td>0.78</td>\n",
       "      <td>1.0</td>\n",
       "    </tr>\n",
       "    <tr>\n",
       "      <th>1463</th>\n",
       "      <td>{'aqi': 1}</td>\n",
       "      <td>{'co': 166.89, 'no': 0, 'no2': 3.26, 'o3': 77....</td>\n",
       "      <td>1606827600</td>\n",
       "      <td>2020-12-01 13:00:00</td>\n",
       "      <td>166.89</td>\n",
       "      <td>0.00</td>\n",
       "      <td>3.26</td>\n",
       "      <td>77.25</td>\n",
       "      <td>0.92</td>\n",
       "      <td>0.67</td>\n",
       "      <td>0.69</td>\n",
       "      <td>0.77</td>\n",
       "      <td>1.0</td>\n",
       "    </tr>\n",
       "    <tr>\n",
       "      <th>1464</th>\n",
       "      <td>{'aqi': 1}</td>\n",
       "      <td>{'co': 165.22, 'no': 0, 'no2': 3.43, 'o3': 76....</td>\n",
       "      <td>1606824000</td>\n",
       "      <td>2020-12-01 12:00:00</td>\n",
       "      <td>165.22</td>\n",
       "      <td>0.00</td>\n",
       "      <td>3.43</td>\n",
       "      <td>76.53</td>\n",
       "      <td>0.86</td>\n",
       "      <td>0.68</td>\n",
       "      <td>0.71</td>\n",
       "      <td>0.74</td>\n",
       "      <td>1.0</td>\n",
       "    </tr>\n",
       "  </tbody>\n",
       "</table>\n",
       "<p>1465 rows × 13 columns</p>\n",
       "</div>"
      ],
      "text/plain": [
       "            main                                         components  \\\n",
       "0     {'aqi': 1}  {'co': 185.25, 'no': 0.17, 'no2': 3.86, 'o3': ...   \n",
       "1     {'aqi': 1}  {'co': 186.92, 'no': 0.51, 'no2': 4.24, 'o3': ...   \n",
       "2     {'aqi': 2}  {'co': 185.25, 'no': 0.59, 'no2': 3.86, 'o3': ...   \n",
       "3     {'aqi': 2}  {'co': 185.25, 'no': 0.72, 'no2': 3.3, 'o3': 8...   \n",
       "4     {'aqi': 2}  {'co': 185.25, 'no': 0.84, 'no2': 2.96, 'o3': ...   \n",
       "...          ...                                                ...   \n",
       "1460  {'aqi': 1}  {'co': 166.89, 'no': 0, 'no2': 1.8, 'o3': 72.9...   \n",
       "1461  {'aqi': 1}  {'co': 166.89, 'no': 0, 'no2': 2.4, 'o3': 74.3...   \n",
       "1462  {'aqi': 1}  {'co': 166.89, 'no': 0, 'no2': 2.91, 'o3': 76....   \n",
       "1463  {'aqi': 1}  {'co': 166.89, 'no': 0, 'no2': 3.26, 'o3': 77....   \n",
       "1464  {'aqi': 1}  {'co': 165.22, 'no': 0, 'no2': 3.43, 'o3': 76....   \n",
       "\n",
       "              dt            datetime      co    no   no2     o3   so2  pm2_5  \\\n",
       "0     1612180800 2021-02-01 12:00:00  185.25  0.17  3.86  78.68  2.56   8.06   \n",
       "1     1612177200 2021-02-01 11:00:00  186.92  0.51  4.24  77.25  2.62   8.16   \n",
       "2     1612173600 2021-02-01 10:00:00  185.25  0.59  3.86  80.82  2.56   8.23   \n",
       "3     1612170000 2021-02-01 09:00:00  185.25  0.72  3.30  85.12  2.38   8.00   \n",
       "4     1612166400 2021-02-01 08:00:00  185.25  0.84  2.96  85.83  1.91   6.86   \n",
       "...          ...                 ...     ...   ...   ...    ...   ...    ...   \n",
       "1460  1606838400 2020-12-01 16:00:00  166.89  0.00  1.80  72.96  0.68   0.56   \n",
       "1461  1606834800 2020-12-01 15:00:00  166.89  0.00  2.40  74.39  0.83   0.62   \n",
       "1462  1606831200 2020-12-01 14:00:00  166.89  0.00  2.91  76.53  0.93   0.65   \n",
       "1463  1606827600 2020-12-01 13:00:00  166.89  0.00  3.26  77.25  0.92   0.67   \n",
       "1464  1606824000 2020-12-01 12:00:00  165.22  0.00  3.43  76.53  0.86   0.68   \n",
       "\n",
       "      pm10   nh3  aqi  \n",
       "0     9.41  1.19  1.0  \n",
       "1     9.45  2.06  1.0  \n",
       "2     9.66  2.69  2.0  \n",
       "3     9.53  3.10  2.0  \n",
       "4     8.30  3.23  2.0  \n",
       "...    ...   ...  ...  \n",
       "1460  0.59  0.70  1.0  \n",
       "1461  0.64  0.75  1.0  \n",
       "1462  0.67  0.78  1.0  \n",
       "1463  0.69  0.77  1.0  \n",
       "1464  0.71  0.74  1.0  \n",
       "\n",
       "[1465 rows x 13 columns]"
      ]
     },
     "execution_count": 22,
     "metadata": {},
     "output_type": "execute_result"
    }
   ],
   "source": [
    "#Date and measurement conversion attempts\n",
    "for index, row in measurements_df.iterrows():\n",
    "    \n",
    "    # Capture and convert data from UNIX time\n",
    "    currentDate = measurements_df.loc[index, \"dt\"]\n",
    "    currentDate = pd.Timestamp(currentDate, unit='s')\n",
    "    \n",
    "    # Capture singular AQI\n",
    "    main = measurements_df.loc[index, \"main\"]\n",
    "    aqi = main[\"aqi\"]\n",
    "    \n",
    "    # Capture components breakdown\n",
    "    components = measurements_df.loc[index, \"components\"]\n",
    "    co = components[\"co\"]\n",
    "    no = components[\"no\"]\n",
    "    no2 = components[\"no2\"]\n",
    "    o3 = components[\"o3\"]\n",
    "    so2 = components[\"so2\"]\n",
    "    pm2_5 = components[\"pm2_5\"]\n",
    "    pm10 = components[\"pm10\"]\n",
    "    nh3 = components[\"nh3\"]\n",
    "    \n",
    "    # Captured data to new dataframe columns\n",
    "    measurements_df.loc[index, \"datetime\"] = currentDate\n",
    "    \n",
    "    measurements_df.loc[index, \"co\"] = co\n",
    "    measurements_df.loc[index, \"no\"] = no\n",
    "    measurements_df.loc[index, \"no2\"] = no2\n",
    "    measurements_df.loc[index, \"o3\"] = o3\n",
    "    measurements_df.loc[index, \"so2\"] = so2\n",
    "    measurements_df.loc[index, \"pm2_5\"] = pm2_5\n",
    "    measurements_df.loc[index, \"pm10\"] = pm10\n",
    "    measurements_df.loc[index, \"nh3\"] = nh3\n",
    "    #break\n",
    "    \n",
    "    measurements_df.loc[index, \"aqi\"] = aqi\n",
    "    \n",
    "    \n",
    "measurements_df\n",
    "#components"
   ]
  },
  {
   "cell_type": "code",
   "execution_count": 25,
   "id": "received-navigation",
   "metadata": {},
   "outputs": [
    {
     "data": {
      "text/plain": [
       "(array([737760., 737767., 737774., 737781., 737791., 737798., 737805.,\n",
       "        737812., 737822.]), <a list of 9 Text major ticklabel objects>)"
      ]
     },
     "execution_count": 25,
     "metadata": {},
     "output_type": "execute_result"
    },
    {
     "data": {
      "image/png": "[encoded data removed]",
      "text/plain": [
       "<Figure size 432x288 with 1 Axes>"
      ]
     },
     "metadata": {
      "needs_background": "light"
     },
     "output_type": "display_data"
    }
   ],
   "source": [
    "# New York\n",
    "\n",
    "# Set plotted values\n",
    "x_values = measurements_df[\"datetime\"]\n",
    "y_values = measurements_df[\"pm2_5\"]\n",
    "\n",
    "# Capture date for title banner\n",
    "#currentDate = pd.Timestamp.today()\n",
    "#currentDate = currentDate.date()\n",
    "\n",
    "# Plot\n",
    "plt.bar(x_values,y_values, color='blue')\n",
    "plt.title(f'New York: Pm2_5 Particle Measurements over Time')\n",
    "plt.ylabel('Pm2_5')\n",
    "plt.xlabel('Date')\n",
    "plt.xticks(rotation=45)"
   ]
  },
  {
   "cell_type": "code",
   "execution_count": 14,
   "id": "outstanding-minister",
   "metadata": {},
   "outputs": [
    {
     "data": {
      "text/plain": [
       "(array([737760., 737767., 737774., 737781., 737791., 737798., 737805.,\n",
       "        737812., 737822.]), <a list of 9 Text major ticklabel objects>)"
      ]
     },
     "execution_count": 14,
     "metadata": {},
     "output_type": "execute_result"
    },
    {
     "data": {
      "image/png": "[encoded data removed]",
      "text/plain": [
       "<Figure size 432x288 with 1 Axes>"
      ]
     },
     "metadata": {
      "needs_background": "light"
     },
     "output_type": "display_data"
    }
   ],
   "source": [
    "#Bakersfield - preserving output\n",
    "\n",
    "# Set plotted values\n",
    "x_values = measurements_df[\"datetime\"]\n",
    "y_values = measurements_df[\"pm2_5\"]\n",
    "\n",
    "# Capture date for title banner\n",
    "#currentDate = pd.Timestamp.today()\n",
    "#currentDate = currentDate.date()\n",
    "\n",
    "# Plot\n",
    "plt.bar(x_values,y_values, color='orange')\n",
    "plt.title(f'Pm2_5 Particle Measurements over Time')\n",
    "plt.ylabel('Pm2_5')\n",
    "plt.xlabel('Date')\n",
    "plt.xticks(rotation=45)"
   ]
  },
  {
   "cell_type": "code",
   "execution_count": 8,
   "id": "quarterly-dance",
   "metadata": {},
   "outputs": [
    {
     "data": {
      "text/plain": [
       "(array([737760., 737767., 737774., 737781., 737791., 737798., 737805.,\n",
       "        737812., 737822.]), <a list of 9 Text major ticklabel objects>)"
      ]
     },
     "execution_count": 8,
     "metadata": {},
     "output_type": "execute_result"
    },
    {
     "data": {
      "image/png": "[encoded data removed]",
      "text/plain": [
       "<Figure size 432x288 with 1 Axes>"
      ]
     },
     "metadata": {
      "needs_background": "light"
     },
     "output_type": "display_data"
    }
   ],
   "source": [
    "#Portland - preserving output\n",
    "\n",
    "# Set plotted values\n",
    "x_values = measurements_df[\"datetime\"]\n",
    "y_values = measurements_df[\"pm2_5\"]\n",
    "\n",
    "# Capture date for title banner\n",
    "#currentDate = pd.Timestamp.today()\n",
    "#currentDate = currentDate.date()\n",
    "\n",
    "# Plot\n",
    "plt.bar(x_values,y_values, color='green')\n",
    "plt.title(f'Pm2_5 Particle Measurements over Time')\n",
    "plt.ylabel('Pm2_5')\n",
    "plt.xlabel('Date')\n",
    "plt.xticks(rotation=45)"
   ]
  },
  {
   "cell_type": "code",
   "execution_count": 23,
   "id": "bright-prescription",
   "metadata": {},
   "outputs": [
    {
     "data": {
      "text/plain": [
       "(array([737760., 737767., 737774., 737781., 737791., 737798., 737805.,\n",
       "        737812., 737822.]), <a list of 9 Text major ticklabel objects>)"
      ]
     },
     "execution_count": 23,
     "metadata": {},
     "output_type": "execute_result"
    },
    {
     "data": {
      "image/png": "[encoded data removed]",
      "text/plain": [
       "<Figure size 432x288 with 1 Axes>"
      ]
     },
     "metadata": {
      "needs_background": "light"
     },
     "output_type": "display_data"
    }
   ],
   "source": [
    "# New York\n",
    "\n",
    "# Set plotted values\n",
    "x_values = measurements_df[\"datetime\"]\n",
    "y_values = measurements_df[\"pm10\"]\n",
    "\n",
    "# Capture date for title banner\n",
    "#currentDate = pd.Timestamp.today()\n",
    "#currentDate = currentDate.date()\n",
    "\n",
    "# Plot\n",
    "plt.bar(x_values,y_values, color='blue')\n",
    "plt.title(f'New York: Pm10 Particle Measurements over Time')\n",
    "plt.ylabel('Pm10')\n",
    "plt.xlabel('Date')\n",
    "plt.xticks(rotation=45)"
   ]
  },
  {
   "cell_type": "code",
   "execution_count": 15,
   "id": "emotional-perfume",
   "metadata": {},
   "outputs": [
    {
     "data": {
      "text/plain": [
       "(array([737760., 737767., 737774., 737781., 737791., 737798., 737805.,\n",
       "        737812., 737822.]), <a list of 9 Text major ticklabel objects>)"
      ]
     },
     "execution_count": 15,
     "metadata": {},
     "output_type": "execute_result"
    },
    {
     "data": {
      "image/png": "[encoded data removed]",
      "text/plain": [
       "<Figure size 432x288 with 1 Axes>"
      ]
     },
     "metadata": {
      "needs_background": "light"
     },
     "output_type": "display_data"
    }
   ],
   "source": [
    "#Bakersfield - preserving output\n",
    "\n",
    "# Set plotted values\n",
    "x_values = measurements_df[\"datetime\"]\n",
    "y_values = measurements_df[\"pm10\"]\n",
    "\n",
    "# Capture date for title banner\n",
    "#currentDate = pd.Timestamp.today()\n",
    "#currentDate = currentDate.date()\n",
    "\n",
    "# Plot\n",
    "plt.bar(x_values,y_values, color='orange')\n",
    "plt.title(f'Pm10 Particle Measurements over Time')\n",
    "plt.ylabel('Pm10')\n",
    "plt.xlabel('Date')\n",
    "plt.xticks(rotation=45)"
   ]
  },
  {
   "cell_type": "code",
   "execution_count": 11,
   "id": "affecting-clinic",
   "metadata": {},
   "outputs": [
    {
     "data": {
      "text/plain": [
       "(array([737760., 737767., 737774., 737781., 737791., 737798., 737805.,\n",
       "        737812., 737822.]), <a list of 9 Text major ticklabel objects>)"
      ]
     },
     "execution_count": 11,
     "metadata": {},
     "output_type": "execute_result"
    },
    {
     "data": {
      "image/png": "[encoded data removed]",
      "text/plain": [
       "<Figure size 432x288 with 1 Axes>"
      ]
     },
     "metadata": {
      "needs_background": "light"
     },
     "output_type": "display_data"
    }
   ],
   "source": [
    "# Portland - preserving output\n",
    "\n",
    "# Set plotted values\n",
    "x_values = measurements_df[\"datetime\"]\n",
    "y_values = measurements_df[\"pm10\"]\n",
    "\n",
    "# Capture date for title banner\n",
    "#currentDate = pd.Timestamp.today()\n",
    "#currentDate = currentDate.date()\n",
    "\n",
    "# Plot\n",
    "plt.bar(x_values,y_values, color='green')\n",
    "plt.title(f'Pm10 Particle Measurements over Time')\n",
    "plt.ylabel('Pm10')\n",
    "plt.xlabel('Date')\n",
    "plt.xticks(rotation=45)"
   ]
  },
  {
   "cell_type": "code",
   "execution_count": 24,
   "id": "complicated-university",
   "metadata": {},
   "outputs": [
    {
     "data": {
      "text/plain": [
       "(array([737760., 737767., 737774., 737781., 737791., 737798., 737805.,\n",
       "        737812., 737822.]), <a list of 9 Text major ticklabel objects>)"
      ]
     },
     "execution_count": 24,
     "metadata": {},
     "output_type": "execute_result"
    },
    {
     "data": {
      "image/png": "[encoded data removed]",
      "text/plain": [
       "<Figure size 432x288 with 1 Axes>"
      ]
     },
     "metadata": {
      "needs_background": "light"
     },
     "output_type": "display_data"
    }
   ],
   "source": [
    "#New York\n",
    "\n",
    "# Set plotted values\n",
    "x_values = measurements_df[\"datetime\"]\n",
    "y_values = measurements_df[\"co\"]\n",
    "\n",
    "# Capture date for title banner\n",
    "#currentDate = pd.Timestamp.today()\n",
    "#currentDate = currentDate.date()\n",
    "\n",
    "# Plot\n",
    "plt.bar(x_values,y_values, color='blue')\n",
    "plt.title(f'New York: CO Measurements over Time')\n",
    "plt.ylabel('CO')\n",
    "plt.xlabel('Date')\n",
    "plt.xticks(rotation=45)"
   ]
  },
  {
   "cell_type": "code",
   "execution_count": 16,
   "id": "colored-prerequisite",
   "metadata": {},
   "outputs": [
    {
     "data": {
      "text/plain": [
       "(array([737760., 737767., 737774., 737781., 737791., 737798., 737805.,\n",
       "        737812., 737822.]), <a list of 9 Text major ticklabel objects>)"
      ]
     },
     "execution_count": 16,
     "metadata": {},
     "output_type": "execute_result"
    },
    {
     "data": {
      "image/png": "[encoded data removed]",
      "text/plain": [
       "<Figure size 432x288 with 1 Axes>"
      ]
     },
     "metadata": {
      "needs_background": "light"
     },
     "output_type": "display_data"
    }
   ],
   "source": [
    "#Bakersfield - preserving output\n",
    "\n",
    "# Set plotted values\n",
    "x_values = measurements_df[\"datetime\"]\n",
    "y_values = measurements_df[\"co\"]\n",
    "\n",
    "# Capture date for title banner\n",
    "#currentDate = pd.Timestamp.today()\n",
    "#currentDate = currentDate.date()\n",
    "\n",
    "# Plot\n",
    "plt.bar(x_values,y_values, color='orange')\n",
    "plt.title(f'CO Measurements over Time')\n",
    "plt.ylabel('CO')\n",
    "plt.xlabel('Date')\n",
    "plt.xticks(rotation=45)"
   ]
  },
  {
   "cell_type": "code",
   "execution_count": 10,
   "id": "polyphonic-business",
   "metadata": {},
   "outputs": [
    {
     "data": {
      "text/plain": [
       "(array([737760., 737767., 737774., 737781., 737791., 737798., 737805.,\n",
       "        737812., 737822.]), <a list of 9 Text major ticklabel objects>)"
      ]
     },
     "execution_count": 10,
     "metadata": {},
     "output_type": "execute_result"
    },
    {
     "data": {
      "image/png": "[encoded data removed]",
      "text/plain": [
       "<Figure size 432x288 with 1 Axes>"
      ]
     },
     "metadata": {
      "needs_background": "light"
     },
     "output_type": "display_data"
    }
   ],
   "source": [
    "#Portland - preserving output\n",
    "\n",
    "# Set plotted values\n",
    "x_values = measurements_df[\"datetime\"]\n",
    "y_values = measurements_df[\"co\"]\n",
    "\n",
    "# Capture date for title banner\n",
    "#currentDate = pd.Timestamp.today()\n",
    "#currentDate = currentDate.date()\n",
    "\n",
    "# Plot\n",
    "plt.bar(x_values,y_values, color='green')\n",
    "plt.title(f'CO Measurements over Time')\n",
    "plt.ylabel('CO')\n",
    "plt.xlabel('Date')\n",
    "plt.xticks(rotation=45)"
   ]
  }
 ],
 "metadata": {
  "kernelspec": {
   "display_name": "Python 3",
   "language": "python",
   "name": "python3"
  },
  "language_info": {
   "codemirror_mode": {
    "name": "ipython",
    "version": 3
   },
   "file_extension": ".py",
   "mimetype": "text/x-python",
   "name": "python",
   "nbconvert_exporter": "python",
   "pygments_lexer": "ipython3",
   "version": "3.6.10"
  }
 },
 "nbformat": 4,
 "nbformat_minor": 5
}
