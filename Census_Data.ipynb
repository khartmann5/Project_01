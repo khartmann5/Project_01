{
 "cells": [
  {
   "cell_type": "code",
   "execution_count": 6,
   "id": "compatible-position",
   "metadata": {},
   "outputs": [],
   "source": [
    "# Dependencies\n",
    "import numpy as np\n",
    "import pandas as pd\n",
    "import matplotlib.pyplot as plt\n",
    "import requests\n",
    "from census import Census\n",
    "\n",
    "# Census API Key\n",
    "from config import census_api_key\n",
    "c = Census(census_api_key, year=2014)"
   ]
  },
  {
   "cell_type": "code",
   "execution_count": 9,
   "id": "floating-fever",
   "metadata": {},
   "outputs": [
    {
     "name": "stdout",
     "output_type": "stream",
     "text": [
      "33120\n"
     ]
    },
    {
     "data": {
      "text/html": [
       "<div>\n",
       "<style scoped>\n",
       "    .dataframe tbody tr th:only-of-type {\n",
       "        vertical-align: middle;\n",
       "    }\n",
       "\n",
       "    .dataframe tbody tr th {\n",
       "        vertical-align: top;\n",
       "    }\n",
       "\n",
       "    .dataframe thead th {\n",
       "        text-align: right;\n",
       "    }\n",
       "</style>\n",
       "<table border=\"1\" class=\"dataframe\">\n",
       "  <thead>\n",
       "    <tr style=\"text-align: right;\">\n",
       "      <th></th>\n",
       "      <th>Zipcode</th>\n",
       "      <th>Population</th>\n",
       "      <th>Median Age</th>\n",
       "      <th>Transportation (total)</th>\n",
       "      <th>Public Transportation</th>\n",
       "      <th>Public Transportation Rate</th>\n",
       "    </tr>\n",
       "  </thead>\n",
       "  <tbody>\n",
       "    <tr>\n",
       "      <th>0</th>\n",
       "      <td>01740</td>\n",
       "      <td>5019.0</td>\n",
       "      <td>42.7</td>\n",
       "      <td>2623.0</td>\n",
       "      <td>72.0</td>\n",
       "      <td>2.744949</td>\n",
       "    </tr>\n",
       "    <tr>\n",
       "      <th>1</th>\n",
       "      <td>01741</td>\n",
       "      <td>4967.0</td>\n",
       "      <td>48.5</td>\n",
       "      <td>2211.0</td>\n",
       "      <td>14.0</td>\n",
       "      <td>0.633198</td>\n",
       "    </tr>\n",
       "    <tr>\n",
       "      <th>2</th>\n",
       "      <td>01742</td>\n",
       "      <td>18948.0</td>\n",
       "      <td>46.7</td>\n",
       "      <td>7623.0</td>\n",
       "      <td>571.0</td>\n",
       "      <td>7.490489</td>\n",
       "    </tr>\n",
       "    <tr>\n",
       "      <th>3</th>\n",
       "      <td>01745</td>\n",
       "      <td>309.0</td>\n",
       "      <td>50.4</td>\n",
       "      <td>162.0</td>\n",
       "      <td>15.0</td>\n",
       "      <td>9.259259</td>\n",
       "    </tr>\n",
       "    <tr>\n",
       "      <th>4</th>\n",
       "      <td>01746</td>\n",
       "      <td>14008.0</td>\n",
       "      <td>42.6</td>\n",
       "      <td>6904.0</td>\n",
       "      <td>260.0</td>\n",
       "      <td>3.765933</td>\n",
       "    </tr>\n",
       "  </tbody>\n",
       "</table>\n",
       "</div>"
      ],
      "text/plain": [
       "  Zipcode  Population  Median Age  Transportation (total)  \\\n",
       "0   01740      5019.0        42.7                  2623.0   \n",
       "1   01741      4967.0        48.5                  2211.0   \n",
       "2   01742     18948.0        46.7                  7623.0   \n",
       "3   01745       309.0        50.4                   162.0   \n",
       "4   01746     14008.0        42.6                  6904.0   \n",
       "\n",
       "   Public Transportation  Public Transportation Rate  \n",
       "0                   72.0                    2.744949  \n",
       "1                   14.0                    0.633198  \n",
       "2                  571.0                    7.490489  \n",
       "3                   15.0                    9.259259  \n",
       "4                  260.0                    3.765933  "
      ]
     },
     "execution_count": 9,
     "metadata": {},
     "output_type": "execute_result"
    }
   ],
   "source": [
    "# Run Census Search to retrieve data on all zip codes (2013 ACS5 Census)\n",
    "# See: https://github.com/datamade/census for library documentation\n",
    "# See: https://gist.github.com/afhaque/60558290d6efd892351c4b64e5c01e9b for labels\n",
    "census_data = c.acs5.get((\"NAME\", \"B08301_001E\", \"B01003_001E\", \"B01002_001E\", \"B08301_010E\"), {'for': 'zip code tabulation area:*'})\n",
    "\n",
    "# Convert to DataFrame\n",
    "census_pd = pd.DataFrame(census_data)\n",
    "\n",
    "# Column Reordering\n",
    "census_pd = census_pd.rename(columns={\"B01003_001E\": \"Population\",\n",
    "                                      \"B01002_001E\": \"Median Age\",\n",
    "                                      \"B08301_001E\": \"Transportation (total)\",\n",
    "                                      \"B08301_010E\": \"Public Transportation\",\n",
    "                                      \"NAME\": \"Name\", \"zip code tabulation area\": \"Zipcode\"})\n",
    "\n",
    "# Add in Public Transportation Rate (Public Transportation / Transportation (total))\n",
    "census_pd[\"Public Transportation Rate\"] = 100 * \\\n",
    "    census_pd[\"Public Transportation\"].astype(\n",
    "        int) / census_pd[\"Transportation (total)\"].astype(int)\n",
    "\n",
    "\n",
    "# Final DataFrame\n",
    "census_pd = census_pd[[\"Zipcode\", \"Population\", \"Median Age\", \"Transportation (total)\",\n",
    "                       \"Public Transportation\",\"Public Transportation Rate\"]]\n",
    "\n",
    "# Visualize\n",
    "print(len(census_pd))\n",
    "census_pd.head()"
   ]
  },
  {
   "cell_type": "code",
   "execution_count": 11,
   "id": "liable-mason",
   "metadata": {},
   "outputs": [],
   "source": [
    "census_pd.to_csv(\"Resources/census_data.csv\", encoding=\"utf-8\", index=False)"
   ]
  },
  {
   "cell_type": "code",
   "execution_count": null,
   "id": "educational-parameter",
   "metadata": {},
   "outputs": [],
   "source": []
  }
 ],
 "metadata": {
  "kernelspec": {
   "display_name": "Python 3",
   "language": "python",
   "name": "python3"
  },
  "language_info": {
   "codemirror_mode": {
    "name": "ipython",
    "version": 3
   },
   "file_extension": ".py",
   "mimetype": "text/x-python",
   "name": "python",
   "nbconvert_exporter": "python",
   "pygments_lexer": "ipython3",
   "version": "3.6.10"
  }
 },
 "nbformat": 4,
 "nbformat_minor": 5
}
