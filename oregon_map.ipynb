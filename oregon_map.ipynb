{
 "cells": [
  {
   "cell_type": "code",
   "execution_count": 1,
   "metadata": {},
   "outputs": [],
   "source": [
    "import requests\n",
    "import os\n",
    "import gmaps\n",
    "import datetime \n",
    "import pandas as pd\n",
    "import numpy as np\n",
    "from scipy.stats import linregress\n",
    "from matplotlib import pyplot as plt\n",
    "\n",
    "from config import weather_key"
   ]
  },
  {
   "cell_type": "code",
   "execution_count": null,
   "metadata": {},
   "outputs": [],
   "source": [
    "\n",
    "# Import cities to check pollution values\n",
    "cities_to_check = pd.read_csv(\"Resources/100-200k_population_top_public_trans.csv\")\n",
    "cities_to_check"
   ]
  },
  {
   "cell_type": "code",
   "execution_count": 2,
   "metadata": {},
   "outputs": [
    {
     "ename": "NameError",
     "evalue": "name 'cities_to_check' is not defined",
     "output_type": "error",
     "traceback": [
      "\u001b[0;31m---------------------------------------------------------------------------\u001b[0m",
      "\u001b[0;31mNameError\u001b[0m                                 Traceback (most recent call last)",
      "\u001b[0;32m<ipython-input-2-0131acc5a657>\u001b[0m in \u001b[0;36m<module>\u001b[0;34m\u001b[0m\n\u001b[1;32m     15\u001b[0m \u001b[0mendDate\u001b[0m \u001b[0;34m=\u001b[0m \u001b[0mser\u001b[0m\u001b[0;34m[\u001b[0m\u001b[0;36m1\u001b[0m\u001b[0;34m]\u001b[0m\u001b[0;34m\u001b[0m\u001b[0;34m\u001b[0m\u001b[0m\n\u001b[1;32m     16\u001b[0m \u001b[0;34m\u001b[0m\u001b[0m\n\u001b[0;32m---> 17\u001b[0;31m \u001b[0;32mfor\u001b[0m \u001b[0mindex\u001b[0m\u001b[0;34m,\u001b[0m \u001b[0mrow\u001b[0m \u001b[0;32min\u001b[0m \u001b[0mcities_to_check\u001b[0m\u001b[0;34m.\u001b[0m\u001b[0miterrows\u001b[0m\u001b[0;34m(\u001b[0m\u001b[0;34m)\u001b[0m\u001b[0;34m:\u001b[0m\u001b[0;34m\u001b[0m\u001b[0;34m\u001b[0m\u001b[0m\n\u001b[0m\u001b[1;32m     18\u001b[0m \u001b[0;34m\u001b[0m\u001b[0m\n\u001b[1;32m     19\u001b[0m     \u001b[0mlat\u001b[0m \u001b[0;34m=\u001b[0m \u001b[0mcities_to_check\u001b[0m\u001b[0;34m.\u001b[0m\u001b[0mloc\u001b[0m\u001b[0;34m[\u001b[0m\u001b[0mindex\u001b[0m\u001b[0;34m,\u001b[0m \u001b[0;34m\"Lat\"\u001b[0m\u001b[0;34m]\u001b[0m\u001b[0;34m\u001b[0m\u001b[0;34m\u001b[0m\u001b[0m\n",
      "\u001b[0;31mNameError\u001b[0m: name 'cities_to_check' is not defined"
     ]
    }
   ],
   "source": [
    "collected_measurements_df = pd.DataFrame()\n",
    "\n",
    "base_url = \"http://api.openweathermap.org/data/2.5/air_pollution/history?\"\n",
    "\n",
    "# December 1, 2020\n",
    "startDate = pd.Timestamp('2020-12-01T12').timestamp()\n",
    "# February 1, 2021\n",
    "endDate = pd.Timestamp('2021-02-01T12').timestamp()\n",
    "\n",
    "# Create series to convert data type\n",
    "ser = pd.Series([startDate, endDate], dtype='int32')\n",
    "\n",
    "# Put converted dates into variable to use\n",
    "startDate = ser[0]\n",
    "endDate = ser[1]\n",
    "\n",
    "for index, row in cities_to_check.iterrows():\n",
    "    \n",
    "    lat = cities_to_check.loc[index, \"Lat\"]\n",
    "    lng = cities_to_check.loc[index, \"Lng\"]\n",
    "    city = cities_to_check.loc[index, \"City\"]\n",
    "    state = cities_to_check.loc[index, \"State\"]\n",
    "    zipcode = cities_to_check.loc[index, \"Zipcode\"]\n",
    "    \n",
    "    # The parameter piece of the URL\n",
    "    param_url = f'lat={lat}&lon={lng}&start={startDate}&end={endDate}&appid={weather_key}'\n",
    "\n",
    "    try:\n",
    "        # Add parameters to query and convert to json\n",
    "        response = requests.get(base_url + param_url)\n",
    "        measurement_data = response.json()\n",
    "    # Create a dataframe out of the result\n",
    "        measurements_df = pd.DataFrame(measurement_data[\"list\"])\n",
    "        print(f'Checking on {city},{state}')\n",
    "    \n",
    "    #print and move on\n",
    "    except:\n",
    "        print(f'Error in JSON pull for {city},{state}')\n",
    "    \n",
    "    #Date and measurement conversion processing\n",
    "    for index, row in measurements_df.iterrows():\n",
    "    \n",
    "        # Capture and convert data from UNIX time\n",
    "        currentDate = measurements_df.loc[index, \"dt\"]\n",
    "        currentDate = pd.Timestamp(currentDate, unit='s')\n",
    "    \n",
    "        # Capture singular AQI\n",
    "        main = measurements_df.loc[index, \"main\"]\n",
    "        aqi = main[\"aqi\"]\n",
    "    \n",
    "        # Capture components breakdown\n",
    "        components = measurements_df.loc[index, \"components\"]\n",
    "        co = components[\"co\"]\n",
    "        no = components[\"no\"]\n",
    "        no2 = components[\"no2\"]\n",
    "        o3 = components[\"o3\"]\n",
    "        so2 = components[\"so2\"]\n",
    "        pm2_5 = components[\"pm2_5\"]\n",
    "        pm10 = components[\"pm10\"]\n",
    "        nh3 = components[\"nh3\"]\n",
    "    \n",
    "        # Captured data to new dataframe columns\n",
    "        measurements_df.loc[index, \"datetime\"] = currentDate\n",
    "    \n",
    "        measurements_df.loc[index, \"co\"] = co\n",
    "        measurements_df.loc[index, \"no\"] = no\n",
    "        measurements_df.loc[index, \"no2\"] = no2\n",
    "        measurements_df.loc[index, \"o3\"] = o3\n",
    "        measurements_df.loc[index, \"so2\"] = so2\n",
    "        measurements_df.loc[index, \"pm2_5\"] = pm2_5\n",
    "        measurements_df.loc[index, \"pm10\"] = pm10\n",
    "        measurements_df.loc[index, \"nh3\"] = nh3\n",
    "        \n",
    "        measurements_df.loc[index, \"aqi\"] = aqi\n",
    "    \n",
    "    measurements_df = measurements_df.drop(columns=['main','components','dt'])\n",
    "    measurements_df.loc[:,\"City\"] = city\n",
    "    measurements_df.loc[:,\"State\"] = state\n",
    "    measurements_df.loc[:,\"Zipcode\"] = zipcode\n",
    "    \n",
    "    collected_measurements_df = collected_measurements_df.append(measurements_df, ignore_index=True)\n",
    "    \n",
    "collected_measurements_df\n",
    "\n"
   ]
  },
  {
   "cell_type": "code",
   "execution_count": null,
   "metadata": {},
   "outputs": [],
   "source": []
  }
 ],
 "metadata": {
  "kernelspec": {
   "display_name": "Python 3",
   "language": "python",
   "name": "python3"
  },
  "language_info": {
   "codemirror_mode": {
    "name": "ipython",
    "version": 3
   },
   "file_extension": ".py",
   "mimetype": "text/x-python",
   "name": "python",
   "nbconvert_exporter": "python",
   "pygments_lexer": "ipython3",
   "version": "3.8.5"
  }
 },
 "nbformat": 4,
 "nbformat_minor": 4
}
